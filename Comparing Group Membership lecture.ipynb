{
 "cells": [
  {
   "cell_type": "code",
   "execution_count": 1,
   "id": "aa76197a",
   "metadata": {},
   "outputs": [],
   "source": [
    "import pandas as pd\n",
    "from scipy import stats\n",
    "from pydataset import data\n",
    "import numpy as np"
   ]
  },
  {
   "cell_type": "markdown",
   "id": "96d85fc3",
   "metadata": {},
   "source": [
    "# CATEGORICAL VS CATEGORICAL"
   ]
  },
  {
   "cell_type": "code",
   "execution_count": null,
   "id": "9063e66a",
   "metadata": {},
   "outputs": [],
   "source": []
  },
  {
   "cell_type": "markdown",
   "id": "d0c4a9b7",
   "metadata": {},
   "source": [
    "## Use stats.chi2_contingency"
   ]
  },
  {
   "cell_type": "markdown",
   "id": "9783bc68",
   "metadata": {},
   "source": [
    "# How do we get the Expected values"
   ]
  },
  {
   "cell_type": "code",
   "execution_count": null,
   "id": "d75bb9e9",
   "metadata": {},
   "outputs": [],
   "source": [
    "determination of how many people \"should\" end up in that category"
   ]
  },
  {
   "cell_type": "code",
   "execution_count": null,
   "id": "bcf50224",
   "metadata": {},
   "outputs": [],
   "source": [
    "df.smoker.value_counts(normalize=True)"
   ]
  },
  {
   "cell_type": "code",
   "execution_count": null,
   "id": "a934c7f5",
   "metadata": {},
   "outputs": [],
   "source": [
    "df.time.value_counts(normalize=True)"
   ]
  },
  {
   "cell_type": "code",
   "execution_count": null,
   "id": "77fcc71e",
   "metadata": {},
   "outputs": [],
   "source": [
    "value of no from first * value of no in second *df.shape(0)"
   ]
  },
  {
   "cell_type": "code",
   "execution_count": null,
   "id": "bc02c7c5",
   "metadata": {},
   "outputs": [],
   "source": [
    "df.shape"
   ]
  },
  {
   "cell_type": "code",
   "execution_count": null,
   "id": "2673e68b",
   "metadata": {},
   "outputs": [],
   "source": []
  },
  {
   "cell_type": "markdown",
   "id": "90531d95",
   "metadata": {},
   "source": [
    "# Is attrition independent from business travel?"
   ]
  },
  {
   "cell_type": "markdown",
   "id": "e5521bcc",
   "metadata": {},
   "source": [
    "$H_0$ Attrition is independent from business travel\n",
    "\n",
    "$H_a$ Attrition is dependent from business travel"
   ]
  },
  {
   "cell_type": "code",
   "execution_count": null,
   "id": "2c5976ba",
   "metadata": {},
   "outputs": [],
   "source": [
    "df.Attrition.value_counts()"
   ]
  },
  {
   "cell_type": "code",
   "execution_count": null,
   "id": "8d19a517",
   "metadata": {},
   "outputs": [],
   "source": [
    "df.BusinessTravel.value_counts()"
   ]
  },
  {
   "cell_type": "code",
   "execution_count": null,
   "id": "a74d7d46",
   "metadata": {},
   "outputs": [],
   "source": [
    "observed = pd.crosstab(df.Attrition, df.BusinessTravel)\n",
    "observed"
   ]
  },
  {
   "cell_type": "code",
   "execution_count": null,
   "id": "953276d6",
   "metadata": {},
   "outputs": [],
   "source": [
    "chi2, p, degf, expected = stats.chi2_contingency(observed)"
   ]
  },
  {
   "cell_type": "code",
   "execution_count": null,
   "id": "b893c364",
   "metadata": {},
   "outputs": [],
   "source": []
  },
  {
   "cell_type": "code",
   "execution_count": null,
   "id": "70f93129",
   "metadata": {},
   "outputs": [],
   "source": []
  },
  {
   "cell_type": "code",
   "execution_count": null,
   "id": "67e4e431",
   "metadata": {},
   "outputs": [],
   "source": []
  },
  {
   "cell_type": "code",
   "execution_count": null,
   "id": "2f7c6c88",
   "metadata": {},
   "outputs": [],
   "source": []
  },
  {
   "cell_type": "code",
   "execution_count": null,
   "id": "663703ed",
   "metadata": {},
   "outputs": [],
   "source": []
  }
 ],
 "metadata": {
  "kernelspec": {
   "display_name": "Python 3 (ipykernel)",
   "language": "python",
   "name": "python3"
  },
  "language_info": {
   "codemirror_mode": {
    "name": "ipython",
    "version": 3
   },
   "file_extension": ".py",
   "mimetype": "text/x-python",
   "name": "python",
   "nbconvert_exporter": "python",
   "pygments_lexer": "ipython3",
   "version": "3.9.13"
  }
 },
 "nbformat": 4,
 "nbformat_minor": 5
}
