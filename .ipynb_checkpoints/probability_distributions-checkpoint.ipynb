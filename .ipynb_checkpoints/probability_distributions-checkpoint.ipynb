{
 "cells": [
  {
   "cell_type": "code",
   "execution_count": 45,
   "id": "aeef20a9",
   "metadata": {},
   "outputs": [],
   "source": [
    "import numpy as np\n",
    "import pandas as pd\n",
    "import matplotlib.pyplot as plt\n",
    "from scipy import stats"
   ]
  },
  {
   "cell_type": "code",
   "execution_count": null,
   "id": "8b1ef3f5",
   "metadata": {},
   "outputs": [],
   "source": [
    "1. A bank found that the average number of cars waiting during the noon hour at a drive-up window follows a \n",
    "Poisson distribution with a mean of 2 cars. Make a chart of this distribution and answer these questions \n",
    "concerning the probability of cars waiting at the drive-up window."
   ]
  },
  {
   "cell_type": "code",
   "execution_count": null,
   "id": "721060e5",
   "metadata": {},
   "outputs": [],
   "source": [
    "#What is the probability that no cars drive up in the noon hour?"
   ]
  },
  {
   "cell_type": "code",
   "execution_count": 54,
   "id": "6bd7aed6",
   "metadata": {},
   "outputs": [
    {
     "data": {
      "text/plain": [
       "<scipy.stats._distn_infrastructure.rv_discrete_frozen at 0x144fdd8e0>"
      ]
     },
     "execution_count": 54,
     "metadata": {},
     "output_type": "execute_result"
    }
   ],
   "source": [
    "car = stats.poisson(2)\n",
    "car"
   ]
  },
  {
   "cell_type": "code",
   "execution_count": 90,
   "id": "bf78de2d",
   "metadata": {},
   "outputs": [
    {
     "data": {
      "text/plain": [
       "0.1353352832366127"
      ]
     },
     "execution_count": 90,
     "metadata": {},
     "output_type": "execute_result"
    }
   ],
   "source": [
    "car.pmf(0)"
   ]
  },
  {
   "cell_type": "markdown",
   "id": "41daf06e",
   "metadata": {},
   "source": [
    "Personal thoughts and comments: I attempted to correct this work since I learned about Poisson but when I submitted\n",
    "\"car_wash = stats.poisson(2)\" and revisited the second code \"car_wash.pmf(2)\" it gave me an error code see below\n",
    "Reattempted the problem, and was successful using Poisson\n",
    "\n",
    "Question: Is there a format that's better, for example, like it was written in solution or \"y = poisson.pmf(mean, x)\"\n",
    "Answer: up to preference"
   ]
  },
  {
   "cell_type": "code",
   "execution_count": null,
   "id": "14191453",
   "metadata": {},
   "outputs": [],
   "source": []
  },
  {
   "cell_type": "markdown",
   "id": "548744ce",
   "metadata": {},
   "source": [
    "What is the probability that 3 or more cars come through the drive through?"
   ]
  },
  {
   "cell_type": "markdown",
   "id": "4bef1c7f",
   "metadata": {},
   "source": [
    "Since the quesiton asked for the probability that more then 3 cars would show up, I gave a definition to car_wash\n",
    "that allowed for the random integer to be broader."
   ]
  },
  {
   "cell_type": "code",
   "execution_count": 56,
   "id": "63a5fc23",
   "metadata": {},
   "outputs": [
    {
     "data": {
      "text/plain": [
       "0.32332358381693654"
      ]
     },
     "execution_count": 56,
     "metadata": {},
     "output_type": "execute_result"
    }
   ],
   "source": [
    "car.sf(2)"
   ]
  },
  {
   "cell_type": "code",
   "execution_count": null,
   "id": "98c5dc78",
   "metadata": {},
   "outputs": [],
   "source": [
    "#How likely is it that the drive through gets at least 1 car?"
   ]
  },
  {
   "cell_type": "code",
   "execution_count": 93,
   "id": "602d11bc",
   "metadata": {},
   "outputs": [
    {
     "data": {
      "text/plain": [
       "0.8646647167633873"
      ]
     },
     "execution_count": 93,
     "metadata": {},
     "output_type": "execute_result"
    }
   ],
   "source": [
    "car.sf(0)"
   ]
  },
  {
   "cell_type": "markdown",
   "id": "1647d7bf",
   "metadata": {},
   "source": [
    "2. Grades of State University graduates are normally distributed with a mean of 3.0 and a \n",
    "standard deviation of .3. Calculate the following:"
   ]
  },
  {
   "cell_type": "markdown",
   "id": "3b733cde",
   "metadata": {},
   "source": [
    " What grade point average is required to be in the top 5% of the graduating class?"
   ]
  },
  {
   "cell_type": "markdown",
   "id": "65348ddf",
   "metadata": {},
   "source": [
    "Personal thoughts and comments: I know I'll need to use .pdf since gpas can be continuous numbers.\n",
    "\n",
    "Notes from class material:\n",
    "Here we are given the mean and standard deviation, and are asked to find the value that corresponds to the top 10%. Here, since we know the probability and want a value, we can use the percent point function to find our answer.\n",
    "\n",
    "\n",
    "μ = 12000\n",
    "σ = 2000\n",
    "\n",
    "sales = stats.norm(μ, σ)\n",
    "\n",
    "top_10_percent_cutoff = sales.ppf(.9)\n",
    "\n",
    "print('${:,.2f}'.format(top_10_percent_cutoff))"
   ]
  },
  {
   "cell_type": "code",
   "execution_count": 59,
   "id": "da452216",
   "metadata": {},
   "outputs": [
    {
     "data": {
      "text/plain": [
       "3.4934560880854417"
      ]
     },
     "execution_count": 59,
     "metadata": {},
     "output_type": "execute_result"
    }
   ],
   "source": [
    "gpa = stats.norm(3, .3)\n",
    "top_5_percent_cutoff = gpa.ppf(.95)\n",
    "top_5_percent_cutoff"
   ]
  },
  {
   "cell_type": "code",
   "execution_count": null,
   "id": "f686800f",
   "metadata": {},
   "outputs": [],
   "source": []
  },
  {
   "cell_type": "code",
   "execution_count": null,
   "id": "a6029ec1",
   "metadata": {},
   "outputs": [],
   "source": [
    "#What GPA constitutes the bottom 15% of the class?"
   ]
  },
  {
   "cell_type": "code",
   "execution_count": 61,
   "id": "d9f8fdd6",
   "metadata": {},
   "outputs": [
    {
     "data": {
      "text/plain": [
       "1.0494515075362604e-21"
      ]
     },
     "execution_count": 61,
     "metadata": {},
     "output_type": "execute_result"
    }
   ],
   "source": [
    "bottom_15_percent = gpa.cdf(.15)\n",
    "bottom_15_percent"
   ]
  },
  {
   "cell_type": "markdown",
   "id": "be8f8fc0",
   "metadata": {},
   "source": [
    "An eccentric alumnus left scholarship money for students in the third decile from the bottom of their class. \n",
    "Determine the range of the third decile. Would a student with a 2.8 grade point average qualify for this \n",
    "scholarship?"
   ]
  },
  {
   "cell_type": "code",
   "execution_count": 71,
   "id": "a91660ab",
   "metadata": {},
   "outputs": [
    {
     "data": {
      "text/plain": [
       "1.1285884059538162e-19"
      ]
     },
     "execution_count": 71,
     "metadata": {},
     "output_type": "execute_result"
    }
   ],
   "source": [
    "gpa_28_percent = gpa.cdf(.3)\n",
    "gpa_28_percent"
   ]
  },
  {
   "cell_type": "markdown",
   "id": "c4ac1568",
   "metadata": {},
   "source": [
    "A student with a 2.8 would have a GPA that's too high for this scholarship."
   ]
  },
  {
   "cell_type": "markdown",
   "id": "e8c77bee",
   "metadata": {},
   "source": [
    "If I have a GPA of 3.5, what percentile am I in?"
   ]
  },
  {
   "cell_type": "code",
   "execution_count": null,
   "id": "bb44e8d8",
   "metadata": {
    "collapsed": true
   },
   "outputs": [],
   "source": [
    "I am not sure which function to use here since I believe I am supposed to use pmf since I am in search\n",
    "of the possibility of a continuous value but when I do, I get the error: #'rv_continuous_frozen' object has no\n",
    "#attribute 'pmf'\n",
    "\n",
    "I used '.pdf()' for this, since it works but I get '.3...' which must be incorrect since the 95th percentile gpa\n",
    "is '3.4...'"
   ]
  },
  {
   "cell_type": "code",
   "execution_count": 82,
   "id": "91158519",
   "metadata": {},
   "outputs": [
    {
     "data": {
      "text/plain": [
       "0.3315904626424956"
      ]
     },
     "execution_count": 82,
     "metadata": {},
     "output_type": "execute_result"
    }
   ],
   "source": [
    "gpa_35_percentile = gpa.pdf(3.5)\n",
    "gpa_35_percentile"
   ]
  },
  {
   "cell_type": "markdown",
   "id": "d5355d62",
   "metadata": {},
   "source": [
    "3. A marketing website has an average click-through rate of 2%. One day they observe 4326 visitors and 97 \n",
    "click-throughs. How likely is it that this many people or more click through?\n",
    "\n",
    "\"prob of 97 people or more means use .sf\""
   ]
  },
  {
   "cell_type": "code",
   "execution_count": 83,
   "id": "41d2c219",
   "metadata": {},
   "outputs": [
    {
     "data": {
      "text/plain": [
       "<scipy.stats._distn_infrastructure.rv_discrete_frozen at 0x144084400>"
      ]
     },
     "execution_count": 83,
     "metadata": {},
     "output_type": "execute_result"
    }
   ],
   "source": [
    "n_trials = 4326\n",
    "p_of_win = .02\n",
    "\n",
    "#create distribution\n",
    "ad_dist = stats.binom(4326, .02)\n",
    "ad_dist\n"
   ]
  },
  {
   "cell_type": "code",
   "execution_count": 127,
   "id": "7b7cea81",
   "metadata": {},
   "outputs": [
    {
     "data": {
      "text/plain": [
       "0.13975823631416448"
      ]
     },
     "execution_count": 127,
     "metadata": {},
     "output_type": "execute_result"
    }
   ],
   "source": [
    "ad_dist.sf(96)"
   ]
  },
  {
   "cell_type": "markdown",
   "id": "ac9b3439",
   "metadata": {},
   "source": [
    "4. You are working on some statistics homework consisting of 100 questions where all of the answers are a \n",
    "probability rounded to the hundreths place. Looking to save time, you put down random probabilities as the \n",
    "answer to each question.\n",
    "\n",
    "    What is the probability that at least one of your first 60 answers is correct?"
   ]
  },
  {
   "cell_type": "markdown",
   "id": "20b69feb",
   "metadata": {},
   "source": [
    "at least 1 being correct in 60, no probability of correct given, how do I set this up?\n",
    "may be binomial, but how do I numerically define 'success'?\n",
    "\n",
    "Try just defining 'win' as 1 percent of 60 or .6"
   ]
  },
  {
   "cell_type": "code",
   "execution_count": 131,
   "id": "6b86fe58",
   "metadata": {},
   "outputs": [
    {
     "data": {
      "text/plain": [
       "<scipy.stats._distn_infrastructure.rv_discrete_frozen at 0x14505c100>"
      ]
     },
     "execution_count": 131,
     "metadata": {},
     "output_type": "execute_result"
    }
   ],
   "source": [
    "n_trials = 60\n",
    "p_of_win = .01\n",
    "\n",
    "#create distribution\n",
    "test_que = stats.binom(60, .01)\n",
    "test_que"
   ]
  },
  {
   "cell_type": "code",
   "execution_count": 132,
   "id": "31c5f966",
   "metadata": {},
   "outputs": [
    {
     "data": {
      "text/plain": [
       "0.33161008629743094"
      ]
     },
     "execution_count": 132,
     "metadata": {},
     "output_type": "execute_result"
    }
   ],
   "source": [
    "test_que.pmf(1)"
   ]
  },
  {
   "cell_type": "code",
   "execution_count": null,
   "id": "7aa3a649",
   "metadata": {},
   "outputs": [],
   "source": [
    "5. The codeup staff tends to get upset when the student break area is not cleaned up. Suppose that \n",
    "there is a 3% chance that any one student cleans the break area when they visit it, and, on any given day, \n",
    "about 90% of the 3 active cohorts of 22 students visit the break area. How likely is it that the break area \n",
    "gets cleaned up each day? How likely is it that it goes two days without getting cleaned up? All week?"
   ]
  },
  {
   "cell_type": "markdown",
   "id": "8b9961e4",
   "metadata": {},
   "source": [
    "chance room is cleaned = 3% or .03, \n",
    "on any given day 90%, \n",
    "66*.9=59.4 students visit the break area\n",
    "probability of cleaned each day\n",
    "probability of it goes two days without being cleaned"
   ]
  },
  {
   "cell_type": "code",
   "execution_count": 130,
   "id": "435c059b",
   "metadata": {},
   "outputs": [],
   "source": [
    "n_trials = 7\n",
    "p_of_win = .03"
   ]
  },
  {
   "cell_type": "code",
   "execution_count": 121,
   "id": "0159d4ae",
   "metadata": {},
   "outputs": [
    {
     "data": {
      "text/plain": [
       "<scipy.stats._distn_infrastructure.rv_discrete_frozen at 0x1450e2430>"
      ]
     },
     "execution_count": 121,
     "metadata": {},
     "output_type": "execute_result"
    }
   ],
   "source": [
    "clean_ = stats.binom(n_trials, p_of_win)\n",
    "clean_\n"
   ]
  },
  {
   "cell_type": "code",
   "execution_count": 113,
   "id": "c48ddd2f",
   "metadata": {},
   "outputs": [
    {
     "data": {
      "text/plain": [
       "17.0"
      ]
     },
     "execution_count": 113,
     "metadata": {},
     "output_type": "execute_result"
    }
   ],
   "source": [
    "round(clean_.pmf(1), 2)*100"
   ]
  },
  {
   "cell_type": "markdown",
   "id": "63a00a22",
   "metadata": {},
   "source": [
    "n_trials = 2\n",
    "p_of_win = .03 WRONG"
   ]
  },
  {
   "cell_type": "code",
   "execution_count": 137,
   "id": "7a5685c4",
   "metadata": {},
   "outputs": [],
   "source": [
    "n_trials = n_trials*2\n",
    "p_of_win = .03\n",
    "notclean_ = stats.binom(n_trials,p_of_win)"
   ]
  },
  {
   "cell_type": "markdown",
   "id": "466b307b",
   "metadata": {},
   "source": [
    "The probability that it is clean on any day is 17 percent"
   ]
  },
  {
   "cell_type": "code",
   "execution_count": 138,
   "id": "f79dece4",
   "metadata": {
    "scrolled": true
   },
   "outputs": [
    {
     "data": {
      "text/plain": [
       "0.17660596358429498"
      ]
     },
     "execution_count": 138,
     "metadata": {},
     "output_type": "execute_result"
    }
   ],
   "source": [
    "notclean_.pmf(2)"
   ]
  },
  {
   "cell_type": "markdown",
   "id": "7f12f551",
   "metadata": {},
   "source": [
    "The probability that it is clean 2 days in a row is .09% WRONG WRONG WRONG"
   ]
  },
  {
   "cell_type": "code",
   "execution_count": null,
   "id": "d5b74c89",
   "metadata": {},
   "outputs": [],
   "source": [
    "6. You want to get lunch at La Panaderia, but notice that the line is usually very long at lunchtime. \n",
    "After several weeks of careful observation, you notice that the average number of people in line when your \n",
    "lunch break starts is normally distributed with a mean of 15 and standard deviation of 3. If it takes 2 minutes \n",
    "for each person to order, and 10 minutes from ordering to getting your food, what is the likelihood that you have \n",
    "at least 15 minutes left to eat your food before you have to go back to class? Assume you have one hour for lunch, \n",
    "and ignore travel time to and from La Panaderia."
   ]
  },
  {
   "cell_type": "code",
   "execution_count": null,
   "id": "13343907",
   "metadata": {},
   "outputs": [],
   "source": [
    "mean_number_of_customers = 15\n",
    "std = 3\n",
    "2 minutes to order\n",
    "10 minutes to get food\n",
    "probability of having 15 minutes left out of 1 hour to finish eating food"
   ]
  },
  {
   "cell_type": "markdown",
   "id": "3654560e",
   "metadata": {},
   "source": [
    "Do the math on how many people would need to be in front of you for you to have be able to have time to eat"
   ]
  },
  {
   "cell_type": "code",
   "execution_count": 133,
   "id": "6b073553",
   "metadata": {},
   "outputs": [],
   "source": [
    "μ = 15\n",
    "σ = 3\n",
    "\n",
    "lunch_break = stats.norm(μ, σ)"
   ]
  },
  {
   "cell_type": "code",
   "execution_count": 135,
   "id": "598b6d66",
   "metadata": {},
   "outputs": [
    {
     "data": {
      "text/plain": [
       "0.1329807601338109"
      ]
     },
     "execution_count": 135,
     "metadata": {},
     "output_type": "execute_result"
    }
   ],
   "source": [
    "lunch_break.pdf(15)"
   ]
  },
  {
   "cell_type": "markdown",
   "id": "5648f382",
   "metadata": {},
   "source": [
    "time_to_order"
   ]
  },
  {
   "cell_type": "code",
   "execution_count": null,
   "id": "f91bc021",
   "metadata": {},
   "outputs": [],
   "source": [
    "7. Connect to the employees database and find the average salary of current employees, along with the standard \n",
    "deviation. For the following questions, calculate the answer based on modeling the employees salaries with a \n",
    "normal distribution defined by the calculated mean and standard deviation then compare this answer to the actual \n",
    "values present in the salaries dataset.\n",
    "\n",
    "    What percent of employees earn less than 60,000?\n",
    "    What percent of employees earn more than 95,000?\n",
    "    What percent of employees earn between 65,000 and 80,000?\n",
    "    What do the top 5% of employees make?"
   ]
  }
 ],
 "metadata": {
  "kernelspec": {
   "display_name": "Python 3 (ipykernel)",
   "language": "python",
   "name": "python3"
  },
  "language_info": {
   "codemirror_mode": {
    "name": "ipython",
    "version": 3
   },
   "file_extension": ".py",
   "mimetype": "text/x-python",
   "name": "python",
   "nbconvert_exporter": "python",
   "pygments_lexer": "ipython3",
   "version": "3.9.13"
  }
 },
 "nbformat": 4,
 "nbformat_minor": 5
}
