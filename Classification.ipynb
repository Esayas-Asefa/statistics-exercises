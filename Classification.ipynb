{
 "cells": [
  {
   "cell_type": "markdown",
   "id": "c9e1ef8c",
   "metadata": {},
   "source": [
    "# CLASSIFICATION"
   ]
  },
  {
   "cell_type": "markdown",
   "id": "55eea159",
   "metadata": {},
   "source": [
    "Overview"
   ]
  },
  {
   "cell_type": "markdown",
   "id": "d0fdbd2e",
   "metadata": {},
   "source": [
    "Vocab"
   ]
  },
  {
   "cell_type": "markdown",
   "id": "c53f1851",
   "metadata": {},
   "source": [
    "In Machine Learning, we provide Data and Output the machine extrapolates Rules"
   ]
  },
  {
   "cell_type": "raw",
   "id": "a4683951",
   "metadata": {},
   "source": [
    "Classifier: Binary or Multiclass\n",
    "    We will mostly be doing binary today"
   ]
  },
  {
   "cell_type": "code",
   "execution_count": null,
   "id": "46e64934",
   "metadata": {},
   "outputs": [],
   "source": [
    "Algorithm vs Model: General vs Specific"
   ]
  },
  {
   "cell_type": "markdown",
   "id": "835c41e2",
   "metadata": {},
   "source": [
    "Feature: A feature, an input/indpendent variable is an individual measureable property of a phenomenon being observed"
   ]
  },
  {
   "cell_type": "code",
   "execution_count": null,
   "id": "0287e6ef",
   "metadata": {},
   "outputs": [],
   "source": [
    "Database vs Dataset"
   ]
  },
  {
   "cell_type": "code",
   "execution_count": null,
   "id": "5f1e88d3",
   "metadata": {},
   "outputs": [],
   "source": [
    "New Concepts\n",
    "    Data Acquisition + Prep\n",
    "    Tidy Data\n",
    "        Data can become massive so this will help us to reduce the size        \n",
    "    Exploratory Data Analysis\n",
    "    Preprocessing\n",
    "    Classification Models--these are completely different models, they dont build off of each other\n",
    "        No expected accuracy rate of these models\n",
    "        Logistic Regression\n",
    "            Trying to predict yes/no, meant for binary\n",
    "            unlike linear regression that tries to predict recurring models(?)\n",
    "        Decision Trees\n",
    "            Like medical algorithm \n",
    "            Can be overfit--too specific\n",
    "        KNN\n",
    "            Great for huge datasets\n",
    "            May be weakest in list of classification models\n",
    "            Items will self identify, matching self based on nearest data\n",
    "        RF\n",
    "            Decision tree in a decision tree, in a decision tree\n",
    "    Classifier Evaluation\n",
    "        \n",
    "    "
   ]
  },
  {
   "cell_type": "code",
   "execution_count": null,
   "id": "e9bdffd1",
   "metadata": {},
   "outputs": [],
   "source": []
  },
  {
   "cell_type": "code",
   "execution_count": null,
   "id": "fae931c6",
   "metadata": {},
   "outputs": [],
   "source": []
  },
  {
   "cell_type": "code",
   "execution_count": null,
   "id": "763e95fd",
   "metadata": {},
   "outputs": [],
   "source": []
  },
  {
   "cell_type": "code",
   "execution_count": null,
   "id": "7d335c8f",
   "metadata": {},
   "outputs": [],
   "source": []
  },
  {
   "cell_type": "code",
   "execution_count": null,
   "id": "8c423188",
   "metadata": {},
   "outputs": [],
   "source": []
  }
 ],
 "metadata": {
  "kernelspec": {
   "display_name": "Python 3 (ipykernel)",
   "language": "python",
   "name": "python3"
  },
  "language_info": {
   "codemirror_mode": {
    "name": "ipython",
    "version": 3
   },
   "file_extension": ".py",
   "mimetype": "text/x-python",
   "name": "python",
   "nbconvert_exporter": "python",
   "pygments_lexer": "ipython3",
   "version": "3.9.13"
  }
 },
 "nbformat": 4,
 "nbformat_minor": 5
}
