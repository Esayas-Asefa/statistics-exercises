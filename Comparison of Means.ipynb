{
 "cells": [
  {
   "cell_type": "markdown",
   "id": "7aee6651",
   "metadata": {},
   "source": [
    "Central Limit Theorem"
   ]
  },
  {
   "cell_type": "code",
   "execution_count": 56,
   "id": "6d5777fc",
   "metadata": {},
   "outputs": [],
   "source": [
    "import numpy as np\n",
    "import seaborn as sns\n",
    "import scipy.stats as stats\n",
    "import pandas as pd\n",
    "import matplotlib.pyplot as plt\n",
    "import env"
   ]
  },
  {
   "cell_type": "code",
   "execution_count": 25,
   "id": "19af682b",
   "metadata": {},
   "outputs": [],
   "source": [
    "user = env.username"
   ]
  },
  {
   "cell_type": "code",
   "execution_count": 26,
   "id": "d2cebdb5",
   "metadata": {},
   "outputs": [],
   "source": [
    "host = env.host"
   ]
  },
  {
   "cell_type": "code",
   "execution_count": 27,
   "id": "2f2bf3c9",
   "metadata": {},
   "outputs": [],
   "source": [
    "password = env.password"
   ]
  },
  {
   "cell_type": "code",
   "execution_count": 41,
   "id": "aaf7a4cb",
   "metadata": {},
   "outputs": [
    {
     "ename": "NameError",
     "evalue": "name 'db' is not defined",
     "output_type": "error",
     "traceback": [
      "\u001b[0;31m---------------------------------------------------------------------------\u001b[0m",
      "\u001b[0;31mNameError\u001b[0m                                 Traceback (most recent call last)",
      "Input \u001b[0;32mIn [41]\u001b[0m, in \u001b[0;36m<cell line: 1>\u001b[0;34m()\u001b[0m\n\u001b[0;32m----> 1\u001b[0m df \u001b[38;5;241m=\u001b[39m pd\u001b[38;5;241m.\u001b[39mread_sql(\u001b[38;5;124m'\u001b[39m\u001b[38;5;124mSELECT * FROM customers\u001b[39m\u001b[38;5;124m'\u001b[39m, \u001b[43mdb\u001b[49m)\n",
      "\u001b[0;31mNameError\u001b[0m: name 'db' is not defined"
     ]
    }
   ],
   "source": [
    "df = pd.read_sql('SELECT * FROM customers', db)  "
   ]
  },
  {
   "cell_type": "code",
   "execution_count": 3,
   "id": "cad34a4a",
   "metadata": {},
   "outputs": [],
   "source": [
    "roll = stats.randint(1, 7).rvs(100_000)"
   ]
  },
  {
   "cell_type": "code",
   "execution_count": 4,
   "id": "0f1131ea",
   "metadata": {},
   "outputs": [
    {
     "data": {
      "image/png": "[encoded data removed]",
      "text/plain": [
       "<Figure size 640x480 with 1 Axes>"
      ]
     },
     "metadata": {},
     "output_type": "display_data"
    }
   ],
   "source": [
    "plt.hist(roll, bins=[1,2,3,4,5,6,7])\n",
    "plt.show()"
   ]
  },
  {
   "cell_type": "code",
   "execution_count": 5,
   "id": "cefe704a",
   "metadata": {},
   "outputs": [
    {
     "data": {
      "text/plain": [
       "3.49856"
      ]
     },
     "execution_count": 5,
     "metadata": {},
     "output_type": "execute_result"
    }
   ],
   "source": [
    "roll.mean()"
   ]
  },
  {
   "cell_type": "code",
   "execution_count": 10,
   "id": "478a95e6",
   "metadata": {},
   "outputs": [],
   "source": [
    "avg = [roll.mean()]"
   ]
  },
  {
   "cell_type": "code",
   "execution_count": 11,
   "id": "339fc02d",
   "metadata": {},
   "outputs": [],
   "source": [
    "for i in range(100):\n",
    "    roll = stats.randint(1, 7).rvs(100_000)\n",
    "    avg = roll.mean()"
   ]
  },
  {
   "cell_type": "code",
   "execution_count": 12,
   "id": "a0465770",
   "metadata": {},
   "outputs": [
    {
     "data": {
      "text/plain": [
       "<function matplotlib.pyplot.show(close=None, block=None)>"
      ]
     },
     "execution_count": 12,
     "metadata": {},
     "output_type": "execute_result"
    },
    {
     "data": {
      "image/png": "[encoded data removed]",
      "text/plain": [
       "<Figure size 640x480 with 1 Axes>"
      ]
     },
     "metadata": {},
     "output_type": "display_data"
    }
   ],
   "source": [
    "plt.hist(avg, bins=[1,2,3,4,5,6,7])\n",
    "plt.show"
   ]
  },
  {
   "cell_type": "code",
   "execution_count": 28,
   "id": "9fb8e51b",
   "metadata": {},
   "outputs": [],
   "source": [
    "def  getconnection(db, user=env.username, host=env.host, password=env.password):\n",
    "    return f'mysql+pymsql://{user}:{password}@{host}/{db}'"
   ]
  },
  {
   "cell_type": "code",
   "execution_count": null,
   "id": "80ba527f",
   "metadata": {},
   "outputs": [],
   "source": []
  },
  {
   "cell_type": "code",
   "execution_count": null,
   "id": "fb9184d2",
   "metadata": {},
   "outputs": [],
   "source": []
  },
  {
   "cell_type": "code",
   "execution_count": null,
   "id": "b18b0825",
   "metadata": {},
   "outputs": [],
   "source": []
  },
  {
   "cell_type": "code",
   "execution_count": null,
   "id": "6496e252",
   "metadata": {},
   "outputs": [],
   "source": []
  },
  {
   "cell_type": "code",
   "execution_count": null,
   "id": "9b1f2c5f",
   "metadata": {},
   "outputs": [],
   "source": []
  },
  {
   "cell_type": "code",
   "execution_count": null,
   "id": "c06d8420",
   "metadata": {},
   "outputs": [],
   "source": []
  },
  {
   "cell_type": "code",
   "execution_count": null,
   "id": "3c4055d4",
   "metadata": {},
   "outputs": [],
   "source": []
  },
  {
   "cell_type": "code",
   "execution_count": null,
   "id": "a7a7c565",
   "metadata": {},
   "outputs": [],
   "source": []
  },
  {
   "cell_type": "code",
   "execution_count": null,
   "id": "8bfe52b9",
   "metadata": {},
   "outputs": [],
   "source": []
  },
  {
   "cell_type": "code",
   "execution_count": null,
   "id": "38241fad",
   "metadata": {},
   "outputs": [],
   "source": []
  },
  {
   "cell_type": "code",
   "execution_count": null,
   "id": "6ab97539",
   "metadata": {},
   "outputs": [],
   "source": []
  },
  {
   "cell_type": "code",
   "execution_count": null,
   "id": "51af6eb1",
   "metadata": {},
   "outputs": [],
   "source": []
  },
  {
   "cell_type": "code",
   "execution_count": null,
   "id": "8844a125",
   "metadata": {},
   "outputs": [],
   "source": []
  },
  {
   "cell_type": "code",
   "execution_count": null,
   "id": "582ec7bc",
   "metadata": {},
   "outputs": [],
   "source": []
  },
  {
   "cell_type": "markdown",
   "id": "d6ad7722",
   "metadata": {},
   "source": [
    "### Compute the test statistic and p-value"
   ]
  },
  {
   "cell_type": "code",
   "execution_count": null,
   "id": "50c13ccf",
   "metadata": {},
   "outputs": [],
   "source": []
  },
  {
   "cell_type": "code",
   "execution_count": null,
   "id": "9dda3bdd",
   "metadata": {},
   "outputs": [],
   "source": []
  },
  {
   "cell_type": "code",
   "execution_count": null,
   "id": "a515a9ba",
   "metadata": {},
   "outputs": [],
   "source": []
  },
  {
   "cell_type": "code",
   "execution_count": null,
   "id": "ffb68a13",
   "metadata": {},
   "outputs": [],
   "source": []
  },
  {
   "cell_type": "code",
   "execution_count": null,
   "id": "058a5f1a",
   "metadata": {},
   "outputs": [],
   "source": []
  },
  {
   "cell_type": "code",
   "execution_count": null,
   "id": "c8e64228",
   "metadata": {},
   "outputs": [],
   "source": []
  },
  {
   "cell_type": "markdown",
   "id": "2712c374",
   "metadata": {},
   "source": [
    "H0 : Mean of monthly charges of churned customers = Mean of monthly charges of all customers\n",
    "\n",
    "Ha : Mean of monthly charges of churned customers != Mean of monthly charges of all customers\n",
    "    \n",
    "H0 : There is no difference in the mean of monthly charges of customers who have churn compared to all customers\n",
    "    \n",
    "Ha : There is a difference in teh mean monthly charges of customers who have churn compared to all customers"
   ]
  },
  {
   "cell_type": "code",
   "execution_count": null,
   "id": "bbc25421",
   "metadata": {},
   "outputs": [],
   "source": [
    "alpha = 0.05"
   ]
  },
  {
   "cell_type": "code",
   "execution_count": 35,
   "id": "7c40acd7",
   "metadata": {},
   "outputs": [
    {
     "ename": "NameError",
     "evalue": "name 'df' is not defined",
     "output_type": "error",
     "traceback": [
      "\u001b[0;31m---------------------------------------------------------------------------\u001b[0m",
      "\u001b[0;31mNameError\u001b[0m                                 Traceback (most recent call last)",
      "Input \u001b[0;32mIn [35]\u001b[0m, in \u001b[0;36m<cell line: 1>\u001b[0;34m()\u001b[0m\n\u001b[0;32m----> 1\u001b[0m \u001b[43mdf\u001b[49m\u001b[38;5;241m.\u001b[39mmonthly_charges\u001b[38;5;241m.\u001b[39mplot\u001b[38;5;241m.\u001b[39mhist()\n",
      "\u001b[0;31mNameError\u001b[0m: name 'df' is not defined"
     ]
    }
   ],
   "source": [
    "df.monthly_charges.plot.hist()"
   ]
  },
  {
   "cell_type": "code",
   "execution_count": null,
   "id": "7a7fa940",
   "metadata": {},
   "outputs": [],
   "source": [
    "dont want to \"t\" to be negative"
   ]
  },
  {
   "cell_type": "markdown",
   "id": "02229b61",
   "metadata": {},
   "source": [
    "1. Ask a question\n",
    "1a. Turn your question into a hypothesis\n",
    "2. Is this one sample or two sample?\n",
    "3. Is it one tailed or two tailed? = or != (two tailed), < or > (one tailed)\n",
    "4. Meet assumptions\n",
    "5. Set confidence level and an alpha\n",
    "6. Perform our test\n",
    "7. Determine if p-value is less then alpha\n"
   ]
  },
  {
   "cell_type": "markdown",
   "id": "5c10a617",
   "metadata": {},
   "source": [
    "Independent T-Test"
   ]
  },
  {
   "cell_type": "markdown",
   "id": "e59f22dc",
   "metadata": {},
   "source": [
    "I believe that customers who churn pay more then those who pay less"
   ]
  },
  {
   "cell_type": "code",
   "execution_count": null,
   "id": "cffb367f",
   "metadata": {},
   "outputs": [],
   "source": [
    "h0: The mean of monthly charges of customers who have churned is not greater than the mean of customers \n",
    "    who have not churned\n",
    "ha: The mean of monthly charges of customers who have churn is greater than the mean of customers who have not churned    "
   ]
  },
  {
   "cell_type": "code",
   "execution_count": 36,
   "id": "32ef37e6",
   "metadata": {},
   "outputs": [
    {
     "ename": "NameError",
     "evalue": "name 'df' is not defined",
     "output_type": "error",
     "traceback": [
      "\u001b[0;31m---------------------------------------------------------------------------\u001b[0m",
      "\u001b[0;31mNameError\u001b[0m                                 Traceback (most recent call last)",
      "Input \u001b[0;32mIn [36]\u001b[0m, in \u001b[0;36m<cell line: 1>\u001b[0;34m()\u001b[0m\n\u001b[0;32m----> 1\u001b[0m churn_sample \u001b[38;5;241m=\u001b[39m \u001b[43mdf\u001b[49m[df\u001b[38;5;241m.\u001b[39mchurn \u001b[38;5;241m==\u001b[39m \u001b[38;5;124m'\u001b[39m\u001b[38;5;124mYes\u001b[39m\u001b[38;5;124m'\u001b[39m]\u001b[38;5;241m.\u001b[39mmonthly_charges\n",
      "\u001b[0;31mNameError\u001b[0m: name 'df' is not defined"
     ]
    }
   ],
   "source": [
    "churn_sample = df[df.churn == 'Yes'].monthly_charges"
   ]
  },
  {
   "cell_type": "code",
   "execution_count": 37,
   "id": "f5bc142e",
   "metadata": {},
   "outputs": [
    {
     "ename": "NameError",
     "evalue": "name 'churn' is not defined",
     "output_type": "error",
     "traceback": [
      "\u001b[0;31m---------------------------------------------------------------------------\u001b[0m",
      "\u001b[0;31mNameError\u001b[0m                                 Traceback (most recent call last)",
      "Input \u001b[0;32mIn [37]\u001b[0m, in \u001b[0;36m<cell line: 1>\u001b[0;34m()\u001b[0m\n\u001b[0;32m----> 1\u001b[0m \u001b[43mchurn\u001b[49m\u001b[38;5;241m.\u001b[39msample\u001b[38;5;241m.\u001b[39mhist()\n",
      "\u001b[0;31mNameError\u001b[0m: name 'churn' is not defined"
     ]
    }
   ],
   "source": [
    "churn.sample.hist()"
   ]
  },
  {
   "cell_type": "code",
   "execution_count": 38,
   "id": "3e252458",
   "metadata": {},
   "outputs": [],
   "source": [
    "alpha = .05"
   ]
  },
  {
   "cell_type": "code",
   "execution_count": 39,
   "id": "a6adfc5a",
   "metadata": {},
   "outputs": [
    {
     "ename": "NameError",
     "evalue": "name 'churn_sample' is not defined",
     "output_type": "error",
     "traceback": [
      "\u001b[0;31m---------------------------------------------------------------------------\u001b[0m",
      "\u001b[0;31mNameError\u001b[0m                                 Traceback (most recent call last)",
      "Input \u001b[0;32mIn [39]\u001b[0m, in \u001b[0;36m<cell line: 1>\u001b[0;34m()\u001b[0m\n\u001b[0;32m----> 1\u001b[0m var_a \u001b[38;5;241m=\u001b[39m np\u001b[38;5;241m.\u001b[39mvar(\u001b[43mchurn_sample\u001b[49m)\n\u001b[1;32m      2\u001b[0m var_b \u001b[38;5;241m=\u001b[39m np\u001b[38;5;241m.\u001b[39mvar(no_churn_sample)\n\u001b[1;32m      3\u001b[0m var_a, var_b\n",
      "\u001b[0;31mNameError\u001b[0m: name 'churn_sample' is not defined"
     ]
    }
   ],
   "source": [
    "var_a = np.var(churn_sample)\n",
    "var_b = np.var(no_churn_sample)\n",
    "var_a, var_b "
   ]
  },
  {
   "cell_type": "markdown",
   "id": "ea92ce6a",
   "metadata": {},
   "source": [
    "Levene's Test of variance\n"
   ]
  },
  {
   "cell_type": "code",
   "execution_count": null,
   "id": "f14a2dc0",
   "metadata": {},
   "outputs": [],
   "source": []
  },
  {
   "cell_type": "markdown",
   "id": "5abb743e",
   "metadata": {},
   "source": [
    "compute our two sample t-test"
   ]
  },
  {
   "cell_type": "code",
   "execution_count": 42,
   "id": "503cd56f",
   "metadata": {},
   "outputs": [
    {
     "ename": "NameError",
     "evalue": "name 'churn_sample' is not defined",
     "output_type": "error",
     "traceback": [
      "\u001b[0;31m---------------------------------------------------------------------------\u001b[0m",
      "\u001b[0;31mNameError\u001b[0m                                 Traceback (most recent call last)",
      "Input \u001b[0;32mIn [42]\u001b[0m, in \u001b[0;36m<cell line: 1>\u001b[0;34m()\u001b[0m\n\u001b[0;32m----> 1\u001b[0m t, p \u001b[38;5;241m=\u001b[39m stats\u001b[38;5;241m.\u001b[39mttest_ind(\u001b[43mchurn_sample\u001b[49m, no_churn_sample, equal_var\u001b[38;5;241m=\u001b[39m\u001b[38;5;28;01mFalse\u001b[39;00m)\n\u001b[1;32m      2\u001b[0m t, p\n",
      "\u001b[0;31mNameError\u001b[0m: name 'churn_sample' is not defined"
     ]
    }
   ],
   "source": [
    "t, p = stats.ttest_ind(churn_sample, no_churn_sample, equal_var=False)\n",
    "t, p"
   ]
  },
  {
   "cell_type": "markdown",
   "id": "2b67cc64",
   "metadata": {},
   "source": [
    "the 2 stands for two sample"
   ]
  },
  {
   "cell_type": "markdown",
   "id": "1944f9f5",
   "metadata": {},
   "source": [
    "ANOVA Analysis of Variance & Kruskal Wallis Test"
   ]
  },
  {
   "cell_type": "code",
   "execution_count": null,
   "id": "ebb6f9f3",
   "metadata": {},
   "outputs": [],
   "source": [
    "Load Iris Dataset"
   ]
  },
  {
   "cell_type": "code",
   "execution_count": 44,
   "id": "552f593d",
   "metadata": {},
   "outputs": [
    {
     "data": {
      "text/html": [
       "<div>\n",
       "<style scoped>\n",
       "    .dataframe tbody tr th:only-of-type {\n",
       "        vertical-align: middle;\n",
       "    }\n",
       "\n",
       "    .dataframe tbody tr th {\n",
       "        vertical-align: top;\n",
       "    }\n",
       "\n",
       "    .dataframe thead th {\n",
       "        text-align: right;\n",
       "    }\n",
       "</style>\n",
       "<table border=\"1\" class=\"dataframe\">\n",
       "  <thead>\n",
       "    <tr style=\"text-align: right;\">\n",
       "      <th></th>\n",
       "      <th>sepal_length</th>\n",
       "      <th>sepal_width</th>\n",
       "      <th>petal_length</th>\n",
       "      <th>petal_width</th>\n",
       "      <th>species</th>\n",
       "    </tr>\n",
       "  </thead>\n",
       "  <tbody>\n",
       "    <tr>\n",
       "      <th>0</th>\n",
       "      <td>5.1</td>\n",
       "      <td>3.5</td>\n",
       "      <td>1.4</td>\n",
       "      <td>0.2</td>\n",
       "      <td>setosa</td>\n",
       "    </tr>\n",
       "    <tr>\n",
       "      <th>1</th>\n",
       "      <td>4.9</td>\n",
       "      <td>3.0</td>\n",
       "      <td>1.4</td>\n",
       "      <td>0.2</td>\n",
       "      <td>setosa</td>\n",
       "    </tr>\n",
       "    <tr>\n",
       "      <th>2</th>\n",
       "      <td>4.7</td>\n",
       "      <td>3.2</td>\n",
       "      <td>1.3</td>\n",
       "      <td>0.2</td>\n",
       "      <td>setosa</td>\n",
       "    </tr>\n",
       "    <tr>\n",
       "      <th>3</th>\n",
       "      <td>4.6</td>\n",
       "      <td>3.1</td>\n",
       "      <td>1.5</td>\n",
       "      <td>0.2</td>\n",
       "      <td>setosa</td>\n",
       "    </tr>\n",
       "    <tr>\n",
       "      <th>4</th>\n",
       "      <td>5.0</td>\n",
       "      <td>3.6</td>\n",
       "      <td>1.4</td>\n",
       "      <td>0.2</td>\n",
       "      <td>setosa</td>\n",
       "    </tr>\n",
       "    <tr>\n",
       "      <th>...</th>\n",
       "      <td>...</td>\n",
       "      <td>...</td>\n",
       "      <td>...</td>\n",
       "      <td>...</td>\n",
       "      <td>...</td>\n",
       "    </tr>\n",
       "    <tr>\n",
       "      <th>145</th>\n",
       "      <td>6.7</td>\n",
       "      <td>3.0</td>\n",
       "      <td>5.2</td>\n",
       "      <td>2.3</td>\n",
       "      <td>virginica</td>\n",
       "    </tr>\n",
       "    <tr>\n",
       "      <th>146</th>\n",
       "      <td>6.3</td>\n",
       "      <td>2.5</td>\n",
       "      <td>5.0</td>\n",
       "      <td>1.9</td>\n",
       "      <td>virginica</td>\n",
       "    </tr>\n",
       "    <tr>\n",
       "      <th>147</th>\n",
       "      <td>6.5</td>\n",
       "      <td>3.0</td>\n",
       "      <td>5.2</td>\n",
       "      <td>2.0</td>\n",
       "      <td>virginica</td>\n",
       "    </tr>\n",
       "    <tr>\n",
       "      <th>148</th>\n",
       "      <td>6.2</td>\n",
       "      <td>3.4</td>\n",
       "      <td>5.4</td>\n",
       "      <td>2.3</td>\n",
       "      <td>virginica</td>\n",
       "    </tr>\n",
       "    <tr>\n",
       "      <th>149</th>\n",
       "      <td>5.9</td>\n",
       "      <td>3.0</td>\n",
       "      <td>5.1</td>\n",
       "      <td>1.8</td>\n",
       "      <td>virginica</td>\n",
       "    </tr>\n",
       "  </tbody>\n",
       "</table>\n",
       "<p>150 rows × 5 columns</p>\n",
       "</div>"
      ],
      "text/plain": [
       "     sepal_length  sepal_width  petal_length  petal_width    species\n",
       "0             5.1          3.5           1.4          0.2     setosa\n",
       "1             4.9          3.0           1.4          0.2     setosa\n",
       "2             4.7          3.2           1.3          0.2     setosa\n",
       "3             4.6          3.1           1.5          0.2     setosa\n",
       "4             5.0          3.6           1.4          0.2     setosa\n",
       "..            ...          ...           ...          ...        ...\n",
       "145           6.7          3.0           5.2          2.3  virginica\n",
       "146           6.3          2.5           5.0          1.9  virginica\n",
       "147           6.5          3.0           5.2          2.0  virginica\n",
       "148           6.2          3.4           5.4          2.3  virginica\n",
       "149           5.9          3.0           5.1          1.8  virginica\n",
       "\n",
       "[150 rows x 5 columns]"
      ]
     },
     "execution_count": 44,
     "metadata": {},
     "output_type": "execute_result"
    }
   ],
   "source": [
    "df = sns.load_dataset('iris')\n",
    "df"
   ]
  },
  {
   "cell_type": "code",
   "execution_count": 45,
   "id": "f37fadf7",
   "metadata": {},
   "outputs": [
    {
     "data": {
      "text/html": [
       "<div>\n",
       "<style scoped>\n",
       "    .dataframe tbody tr th:only-of-type {\n",
       "        vertical-align: middle;\n",
       "    }\n",
       "\n",
       "    .dataframe tbody tr th {\n",
       "        vertical-align: top;\n",
       "    }\n",
       "\n",
       "    .dataframe thead th {\n",
       "        text-align: right;\n",
       "    }\n",
       "</style>\n",
       "<table border=\"1\" class=\"dataframe\">\n",
       "  <thead>\n",
       "    <tr style=\"text-align: right;\">\n",
       "      <th></th>\n",
       "      <th>sepal_length</th>\n",
       "      <th>sepal_width</th>\n",
       "      <th>petal_length</th>\n",
       "      <th>petal_width</th>\n",
       "      <th>species</th>\n",
       "    </tr>\n",
       "  </thead>\n",
       "  <tbody>\n",
       "    <tr>\n",
       "      <th>0</th>\n",
       "      <td>5.1</td>\n",
       "      <td>3.5</td>\n",
       "      <td>1.4</td>\n",
       "      <td>0.2</td>\n",
       "      <td>setosa</td>\n",
       "    </tr>\n",
       "    <tr>\n",
       "      <th>1</th>\n",
       "      <td>4.9</td>\n",
       "      <td>3.0</td>\n",
       "      <td>1.4</td>\n",
       "      <td>0.2</td>\n",
       "      <td>setosa</td>\n",
       "    </tr>\n",
       "    <tr>\n",
       "      <th>2</th>\n",
       "      <td>4.7</td>\n",
       "      <td>3.2</td>\n",
       "      <td>1.3</td>\n",
       "      <td>0.2</td>\n",
       "      <td>setosa</td>\n",
       "    </tr>\n",
       "    <tr>\n",
       "      <th>3</th>\n",
       "      <td>4.6</td>\n",
       "      <td>3.1</td>\n",
       "      <td>1.5</td>\n",
       "      <td>0.2</td>\n",
       "      <td>setosa</td>\n",
       "    </tr>\n",
       "    <tr>\n",
       "      <th>4</th>\n",
       "      <td>5.0</td>\n",
       "      <td>3.6</td>\n",
       "      <td>1.4</td>\n",
       "      <td>0.2</td>\n",
       "      <td>setosa</td>\n",
       "    </tr>\n",
       "  </tbody>\n",
       "</table>\n",
       "</div>"
      ],
      "text/plain": [
       "   sepal_length  sepal_width  petal_length  petal_width species\n",
       "0           5.1          3.5           1.4          0.2  setosa\n",
       "1           4.9          3.0           1.4          0.2  setosa\n",
       "2           4.7          3.2           1.3          0.2  setosa\n",
       "3           4.6          3.1           1.5          0.2  setosa\n",
       "4           5.0          3.6           1.4          0.2  setosa"
      ]
     },
     "execution_count": 45,
     "metadata": {},
     "output_type": "execute_result"
    }
   ],
   "source": [
    "df.head()"
   ]
  },
  {
   "cell_type": "code",
   "execution_count": 46,
   "id": "f31edce6",
   "metadata": {},
   "outputs": [
    {
     "data": {
      "text/plain": [
       "setosa        50\n",
       "versicolor    50\n",
       "virginica     50\n",
       "Name: species, dtype: int64"
      ]
     },
     "execution_count": 46,
     "metadata": {},
     "output_type": "execute_result"
    }
   ],
   "source": [
    "df.species.value_counts()"
   ]
  },
  {
   "cell_type": "code",
   "execution_count": 48,
   "id": "4159b20a",
   "metadata": {},
   "outputs": [],
   "source": [
    "versicolor_sepal_length = df[df.species == 'versicolor'].sepal_length\n",
    "virginica_sepal_length = df[df.species == 'virginica'].sepal_length\n",
    "setosa_sepal_length = df[df.species == 'setosa'].sepal_length"
   ]
  },
  {
   "cell_type": "code",
   "execution_count": null,
   "id": "a9382cf3",
   "metadata": {},
   "outputs": [],
   "source": [
    "looking at distribution"
   ]
  },
  {
   "cell_type": "code",
   "execution_count": 49,
   "id": "05fc9f79",
   "metadata": {},
   "outputs": [
    {
     "data": {
      "text/plain": [
       "<AxesSubplot:>"
      ]
     },
     "execution_count": 49,
     "metadata": {},
     "output_type": "execute_result"
    },
    {
     "data": {
      "image/png": "[encoded data removed]",
      "text/plain": [
       "<Figure size 640x480 with 1 Axes>"
      ]
     },
     "metadata": {},
     "output_type": "display_data"
    }
   ],
   "source": [
    "versicolor_sepal_length.hist()"
   ]
  },
  {
   "cell_type": "code",
   "execution_count": null,
   "id": "8a0b49a8",
   "metadata": {},
   "outputs": [],
   "source": [
    "dist for virginica"
   ]
  },
  {
   "cell_type": "code",
   "execution_count": null,
   "id": "1495517a",
   "metadata": {},
   "outputs": [],
   "source": [
    "dist for setosa"
   ]
  },
  {
   "cell_type": "code",
   "execution_count": null,
   "id": "466f5cdf",
   "metadata": {},
   "outputs": [],
   "source": [
    "H0 : There is no difference of sepal length between all three species\n",
    "Ha : There is a difference of sepal length between all three species"
   ]
  },
  {
   "cell_type": "code",
   "execution_count": null,
   "id": "a6f5d56d",
   "metadata": {},
   "outputs": [],
   "source": [
    "alpha = .05"
   ]
  },
  {
   "cell_type": "code",
   "execution_count": 50,
   "id": "88c90ed8",
   "metadata": {},
   "outputs": [
    {
     "data": {
      "text/plain": [
       "0.2664326530612246"
      ]
     },
     "execution_count": 50,
     "metadata": {},
     "output_type": "execute_result"
    }
   ],
   "source": [
    "versicolor_sepal_length.var()"
   ]
  },
  {
   "cell_type": "code",
   "execution_count": null,
   "id": "bb08478f",
   "metadata": {},
   "outputs": [],
   "source": []
  },
  {
   "cell_type": "code",
   "execution_count": null,
   "id": "7b4ee9ff",
   "metadata": {},
   "outputs": [],
   "source": [
    "Non-parametric"
   ]
  },
  {
   "cell_type": "code",
   "execution_count": 52,
   "id": "5258994f",
   "metadata": {},
   "outputs": [
    {
     "data": {
      "text/plain": [
       "(96.93743600064833, 8.91873433246198e-22)"
      ]
     },
     "execution_count": 52,
     "metadata": {},
     "output_type": "execute_result"
    }
   ],
   "source": [
    "stats, p = stats.kruskal(versicolor_sepal_length, virginica_sepal_length, setosa_sepal_length)\n",
    "stats, p"
   ]
  },
  {
   "cell_type": "code",
   "execution_count": null,
   "id": "1a323fdb",
   "metadata": {},
   "outputs": [],
   "source": [
    "parametric"
   ]
  },
  {
   "cell_type": "code",
   "execution_count": 57,
   "id": "8024a763",
   "metadata": {},
   "outputs": [
    {
     "data": {
      "text/plain": [
       "(119.26450218450472, 1.6696691907693648e-31)"
      ]
     },
     "execution_count": 57,
     "metadata": {},
     "output_type": "execute_result"
    }
   ],
   "source": [
    "f, p = stats.f_oneway(versicolor_sepal_length, virginica_sepal_length, setosa_sepal_length)\n",
    "f, p"
   ]
  },
  {
   "cell_type": "code",
   "execution_count": null,
   "id": "5c8079ff",
   "metadata": {},
   "outputs": [],
   "source": []
  }
 ],
 "metadata": {
  "kernelspec": {
   "display_name": "Python 3 (ipykernel)",
   "language": "python",
   "name": "python3"
  },
  "language_info": {
   "codemirror_mode": {
    "name": "ipython",
    "version": 3
   },
   "file_extension": ".py",
   "mimetype": "text/x-python",
   "name": "python",
   "nbconvert_exporter": "python",
   "pygments_lexer": "ipython3",
   "version": "3.9.13"
  }
 },
 "nbformat": 4,
 "nbformat_minor": 5
}
