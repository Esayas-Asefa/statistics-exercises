{
 "cells": [
  {
   "cell_type": "code",
   "execution_count": 45,
   "id": "058b6779",
   "metadata": {},
   "outputs": [],
   "source": [
    "import numpy as np\n",
    "import pandas as pd\n",
    "import matplotlib.pyplot as plt\n",
    "from scipy import stats"
   ]
  },
  {
   "cell_type": "code",
   "execution_count": null,
   "id": "7615d661",
   "metadata": {},
   "outputs": [],
   "source": [
    "1. A bank found that the average number of cars waiting during the noon hour at a drive-up window follows a \n",
    "Poisson distribution with a mean of 2 cars. Make a chart of this distribution and answer these questions \n",
    "concerning the probability of cars waiting at the drive-up window."
   ]
  },
  {
   "cell_type": "code",
   "execution_count": null,
   "id": "97c55c8f",
   "metadata": {},
   "outputs": [],
   "source": [
    "#What is the probability that no cars drive up in the noon hour?"
   ]
  },
  {
   "cell_type": "code",
   "execution_count": 49,
   "id": "fed732f3",
   "metadata": {},
   "outputs": [
    {
     "data": {
      "text/plain": [
       "<scipy.stats._distn_infrastructure.rv_discrete_frozen at 0x14409f790>"
      ]
     },
     "execution_count": 49,
     "metadata": {},
     "output_type": "execute_result"
    }
   ],
   "source": [
    "car_wash = stats.randint(0, 3)\n",
    "car_wash"
   ]
  },
  {
   "cell_type": "code",
   "execution_count": 54,
   "id": "dc8abdc5",
   "metadata": {},
   "outputs": [
    {
     "data": {
      "text/plain": [
       "<scipy.stats._distn_infrastructure.rv_discrete_frozen at 0x144fdd8e0>"
      ]
     },
     "execution_count": 54,
     "metadata": {},
     "output_type": "execute_result"
    }
   ],
   "source": [
    "car = stats.poisson(2)\n",
    "car"
   ]
  },
  {
   "cell_type": "code",
   "execution_count": 55,
   "id": "54fe9451",
   "metadata": {},
   "outputs": [
    {
     "data": {
      "text/plain": [
       "0.2706705664732254"
      ]
     },
     "execution_count": 55,
     "metadata": {},
     "output_type": "execute_result"
    }
   ],
   "source": [
    "car.pmf(2)"
   ]
  },
  {
   "cell_type": "code",
   "execution_count": 50,
   "id": "59eff06b",
   "metadata": {},
   "outputs": [
    {
     "data": {
      "text/plain": [
       "0.3333333333333333"
      ]
     },
     "execution_count": 50,
     "metadata": {},
     "output_type": "execute_result"
    }
   ],
   "source": [
    "#car_wash.pmf(2)"
   ]
  },
  {
   "cell_type": "markdown",
   "id": "05d30b32",
   "metadata": {},
   "source": [
    "Personal thoughts and comments: I attempted to correct this work since I learned about Poisson but when I submitted\n",
    "\"car_wash = stats.poisson(2)\" and revisited the second code \"car_wash.pmf(2)\" it gave me an error code see below\n",
    "Reattempted the problem, and was successful using Poisson"
   ]
  },
  {
   "cell_type": "code",
   "execution_count": null,
   "id": "f8c80d53",
   "metadata": {},
   "outputs": [],
   "source": []
  },
  {
   "cell_type": "markdown",
   "id": "89c8a2bd",
   "metadata": {},
   "source": [
    "What is the probability that 3 or more cars come through the drive through?"
   ]
  },
  {
   "cell_type": "markdown",
   "id": "2fd0752f",
   "metadata": {},
   "source": [
    "Since the quesiton asked for the probability that more then 3 cars would show up, I gave a definition to car_wash\n",
    "that allowed for the random integer to be broader."
   ]
  },
  {
   "cell_type": "code",
   "execution_count": 56,
   "id": "5c9719e0",
   "metadata": {},
   "outputs": [
    {
     "data": {
      "text/plain": [
       "0.32332358381693654"
      ]
     },
     "execution_count": 56,
     "metadata": {},
     "output_type": "execute_result"
    }
   ],
   "source": [
    "car.sf(2)"
   ]
  },
  {
   "cell_type": "code",
   "execution_count": null,
   "id": "661a4229",
   "metadata": {},
   "outputs": [],
   "source": [
    "#How likely is it that the drive through gets at least 1 car?"
   ]
  },
  {
   "cell_type": "code",
   "execution_count": 57,
   "id": "c7cf03a7",
   "metadata": {},
   "outputs": [
    {
     "data": {
      "text/plain": [
       "0.40600584970983794"
      ]
     },
     "execution_count": 57,
     "metadata": {},
     "output_type": "execute_result"
    }
   ],
   "source": [
    "car.cdf(1)"
   ]
  },
  {
   "cell_type": "markdown",
   "id": "26da3ce7",
   "metadata": {},
   "source": [
    "2. Grades of State University graduates are normally distributed with a mean of 3.0 and a \n",
    "standard deviation of .3. Calculate the following:"
   ]
  },
  {
   "cell_type": "markdown",
   "id": "cb4e3d71",
   "metadata": {},
   "source": [
    "3. What grade point average is required to be in the top 5% of the graduating class?"
   ]
  },
  {
   "cell_type": "markdown",
   "id": "b9d3d174",
   "metadata": {},
   "source": [
    "Personal thoughts and comments: I know I'll need to use .pdf since gpas can be continuous numbers.\n",
    "\n",
    "Notes from class material:\n",
    "Here we are given the mean and standard deviation, and are asked to find the value that corresponds to the top 10%. Here, since we know the probability and want a value, we can use the percent point function to find our answer.\n",
    "\n",
    "\n",
    "μ = 12000\n",
    "σ = 2000\n",
    "\n",
    "sales = stats.norm(μ, σ)\n",
    "\n",
    "top_10_percent_cutoff = sales.ppf(.9)\n",
    "\n",
    "print('${:,.2f}'.format(top_10_percent_cutoff))"
   ]
  },
  {
   "cell_type": "code",
   "execution_count": 59,
   "id": "e2fbf804",
   "metadata": {},
   "outputs": [
    {
     "data": {
      "text/plain": [
       "3.4934560880854417"
      ]
     },
     "execution_count": 59,
     "metadata": {},
     "output_type": "execute_result"
    }
   ],
   "source": [
    "gpa = stats.norm(3, .3)\n",
    "top_5_percent_cutoff = gpa.ppf(.95)\n",
    "top_5_percent_cutoff"
   ]
  },
  {
   "cell_type": "code",
   "execution_count": null,
   "id": "83aae3b4",
   "metadata": {},
   "outputs": [],
   "source": []
  },
  {
   "cell_type": "code",
   "execution_count": null,
   "id": "af9440c6",
   "metadata": {},
   "outputs": [],
   "source": [
    "#What GPA constitutes the bottom 15% of the class?"
   ]
  },
  {
   "cell_type": "code",
   "execution_count": 61,
   "id": "eef204c3",
   "metadata": {},
   "outputs": [
    {
     "data": {
      "text/plain": [
       "1.0494515075362604e-21"
      ]
     },
     "execution_count": 61,
     "metadata": {},
     "output_type": "execute_result"
    }
   ],
   "source": [
    "bottom_15_percent = gpa.cdf(.15)\n",
    "bottom_15_percent"
   ]
  },
  {
   "cell_type": "markdown",
   "id": "06ba3787",
   "metadata": {},
   "source": [
    "An eccentric alumnus left scholarship money for students in the third decile from the bottom of their class. \n",
    "Determine the range of the third decile. Would a student with a 2.8 grade point average qualify for this \n",
    "scholarship?"
   ]
  },
  {
   "cell_type": "code",
   "execution_count": null,
   "id": "65020a91",
   "metadata": {},
   "outputs": [],
   "source": []
  },
  {
   "cell_type": "markdown",
   "id": "5c47e7b0",
   "metadata": {},
   "source": [
    "If I have a GPA of 3.5, what percentile am I in?"
   ]
  },
  {
   "cell_type": "code",
   "execution_count": null,
   "id": "7aa8639c",
   "metadata": {},
   "outputs": [],
   "source": []
  },
  {
   "cell_type": "markdown",
   "id": "6e735bed",
   "metadata": {},
   "source": [
    "3. A marketing website has an average click-through rate of 2%. One day they observe 4326 visitors and 97 \n",
    "click-throughs. How likely is it that this many people or more click through?"
   ]
  },
  {
   "cell_type": "code",
   "execution_count": null,
   "id": "5e97fd53",
   "metadata": {},
   "outputs": [],
   "source": []
  },
  {
   "cell_type": "markdown",
   "id": "8958aa61",
   "metadata": {},
   "source": [
    "4. You are working on some statistics homework consisting of 100 questions where all of the answers are a \n",
    "probability rounded to the hundreths place. Looking to save time, you put down random probabilities as the \n",
    "answer to each question.\n",
    "\n",
    "    What is the probability that at least one of your first 60 answers is correct?"
   ]
  },
  {
   "cell_type": "code",
   "execution_count": null,
   "id": "1aff88e8",
   "metadata": {},
   "outputs": [],
   "source": []
  },
  {
   "cell_type": "code",
   "execution_count": null,
   "id": "506a110b",
   "metadata": {},
   "outputs": [],
   "source": [
    "5. The codeup staff tends to get upset when the student break area is not cleaned up. Suppose that \n",
    "there's a 3% chance that any one student cleans the break area when they visit it, and, on any given day, \n",
    "about 90% of the 3 active cohorts of 22 students visit the break area. How likely is it that the break area \n",
    "gets cleaned up each day? How likely is it that it goes two days without getting cleaned up? All week?"
   ]
  },
  {
   "cell_type": "code",
   "execution_count": null,
   "id": "d0d20b7e",
   "metadata": {},
   "outputs": [],
   "source": []
  },
  {
   "cell_type": "code",
   "execution_count": null,
   "id": "2d3ffd1d",
   "metadata": {},
   "outputs": [],
   "source": [
    "6. You want to get lunch at La Panaderia, but notice that the line is usually very long at lunchtime. \n",
    "After several weeks of careful observation, you notice that the average number of people in line when your \n",
    "lunch break starts is normally distributed with a mean of 15 and standard deviation of 3. If it takes 2 minutes \n",
    "for each person to order, and 10 minutes from ordering to getting your food, what is the likelihood that you have \n",
    "at least 15 minutes left to eat your food before you have to go back to class? Assume you have one hour for lunch, \n",
    "and ignore travel time to and from La Panaderia."
   ]
  },
  {
   "cell_type": "code",
   "execution_count": null,
   "id": "3c7d5180",
   "metadata": {},
   "outputs": [],
   "source": []
  },
  {
   "cell_type": "code",
   "execution_count": null,
   "id": "9afe293c",
   "metadata": {},
   "outputs": [],
   "source": [
    "7. Connect to the employees database and find the average salary of current employees, along with the standard \n",
    "deviation. For the following questions, calculate the answer based on modeling the employees salaries with a \n",
    "normal distribution defined by the calculated mean and standard deviation then compare this answer to the actual \n",
    "values present in the salaries dataset.\n",
    "\n",
    "    What percent of employees earn less than 60,000?\n",
    "    What percent of employees earn more than 95,000?\n",
    "    What percent of employees earn between 65,000 and 80,000?\n",
    "    What do the top 5% of employees make?"
   ]
  }
 ],
 "metadata": {
  "kernelspec": {
   "display_name": "Python 3 (ipykernel)",
   "language": "python",
   "name": "python3"
  },
  "language_info": {
   "codemirror_mode": {
    "name": "ipython",
    "version": 3
   },
   "file_extension": ".py",
   "mimetype": "text/x-python",
   "name": "python",
   "nbconvert_exporter": "python",
   "pygments_lexer": "ipython3",
   "version": "3.9.13"
  }
 },
 "nbformat": 4,
 "nbformat_minor": 5
}
