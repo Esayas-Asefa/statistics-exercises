{
 "cells": [
  {
   "cell_type": "code",
   "execution_count": 4,
   "id": "011053f6",
   "metadata": {},
   "outputs": [],
   "source": [
    "import numpy as np\n",
    "import pandas as pd\n",
    "import matplotlib.pyplot as plt\n",
    "from scipy import stats"
   ]
  },
  {
   "cell_type": "code",
   "execution_count": 11,
   "id": "f9eba400",
   "metadata": {},
   "outputs": [],
   "source": [
    "np.random.seed(1349) \n",
    "\n",
    "n_simulations =100_000"
   ]
  },
  {
   "cell_type": "code",
   "execution_count": null,
   "id": "7ed76aaf",
   "metadata": {},
   "outputs": [],
   "source": [
    "#How likely is it that you roll doubles when rolling two dice?"
   ]
  },
  {
   "cell_type": "code",
   "execution_count": 5,
   "id": "2cc0ee9e",
   "metadata": {},
   "outputs": [
    {
     "data": {
      "text/plain": [
       "0.167321"
      ]
     },
     "execution_count": 5,
     "metadata": {},
     "output_type": "execute_result"
    }
   ],
   "source": [
    "n_trials = nrows = 1000000\n",
    "n_dice = ncols = 2\n",
    "\n",
    "rolls = np.random.choice([1, 2, 3, 4, 5, 6], n_trials * n_dice).reshape(nrows, ncols)\n",
    "#print(rolls)\n",
    "\n",
    "rolls =pd.DataFrame(rolls)\n",
    "(rolls[0] == rolls[1]).mean()\n"
   ]
  },
  {
   "cell_type": "code",
   "execution_count": 1,
   "id": "eac8d535",
   "metadata": {},
   "outputs": [
    {
     "data": {
      "text/plain": [
       "0.16666666666666666"
      ]
     },
     "execution_count": 1,
     "metadata": {},
     "output_type": "execute_result"
    }
   ],
   "source": [
    "6/36"
   ]
  },
  {
   "cell_type": "code",
   "execution_count": 6,
   "id": "07b0c913",
   "metadata": {},
   "outputs": [
    {
     "data": {
      "text/html": [
       "<div>\n",
       "<style scoped>\n",
       "    .dataframe tbody tr th:only-of-type {\n",
       "        vertical-align: middle;\n",
       "    }\n",
       "\n",
       "    .dataframe tbody tr th {\n",
       "        vertical-align: top;\n",
       "    }\n",
       "\n",
       "    .dataframe thead th {\n",
       "        text-align: right;\n",
       "    }\n",
       "</style>\n",
       "<table border=\"1\" class=\"dataframe\">\n",
       "  <thead>\n",
       "    <tr style=\"text-align: right;\">\n",
       "      <th></th>\n",
       "      <th>0</th>\n",
       "      <th>1</th>\n",
       "    </tr>\n",
       "  </thead>\n",
       "  <tbody>\n",
       "    <tr>\n",
       "      <th>0</th>\n",
       "      <td>2</td>\n",
       "      <td>4</td>\n",
       "    </tr>\n",
       "    <tr>\n",
       "      <th>1</th>\n",
       "      <td>3</td>\n",
       "      <td>1</td>\n",
       "    </tr>\n",
       "    <tr>\n",
       "      <th>2</th>\n",
       "      <td>6</td>\n",
       "      <td>3</td>\n",
       "    </tr>\n",
       "    <tr>\n",
       "      <th>3</th>\n",
       "      <td>3</td>\n",
       "      <td>2</td>\n",
       "    </tr>\n",
       "    <tr>\n",
       "      <th>4</th>\n",
       "      <td>3</td>\n",
       "      <td>4</td>\n",
       "    </tr>\n",
       "  </tbody>\n",
       "</table>\n",
       "</div>"
      ],
      "text/plain": [
       "   0  1\n",
       "0  2  4\n",
       "1  3  1\n",
       "2  6  3\n",
       "3  3  2\n",
       "4  3  4"
      ]
     },
     "execution_count": 6,
     "metadata": {},
     "output_type": "execute_result"
    }
   ],
   "source": [
    "rolls = pd.DataFrame(rolls)\n",
    "rolls.head()"
   ]
  },
  {
   "cell_type": "code",
   "execution_count": 8,
   "id": "ed0bc598",
   "metadata": {},
   "outputs": [
    {
     "data": {
      "text/plain": [
       "0.167321"
      ]
     },
     "execution_count": 8,
     "metadata": {},
     "output_type": "execute_result"
    }
   ],
   "source": [
    "(rolls[0] == rolls[1]).mean()"
   ]
  },
  {
   "cell_type": "markdown",
   "id": "0b319861",
   "metadata": {},
   "source": [
    "2. If you flip 8 coins, what is the probability of getting exactly 3 heads? What is the probability of getting more than 3 heads?"
   ]
  },
  {
   "cell_type": "code",
   "execution_count": 9,
   "id": "0687269b",
   "metadata": {},
   "outputs": [],
   "source": [
    "n_coins = 8 \n",
    "outcomes = ['H', 'T']"
   ]
  },
  {
   "cell_type": "code",
   "execution_count": null,
   "id": "a4bd0fc3",
   "metadata": {},
   "outputs": [],
   "source": []
  },
  {
   "cell_type": "code",
   "execution_count": 12,
   "id": "f1469431",
   "metadata": {},
   "outputs": [
    {
     "data": {
      "text/plain": [
       "array([['H', 'H', 'T', ..., 'H', 'T', 'T'],\n",
       "       ['T', 'T', 'T', ..., 'H', 'T', 'T'],\n",
       "       ['H', 'H', 'T', ..., 'T', 'T', 'H'],\n",
       "       ...,\n",
       "       ['T', 'H', 'H', ..., 'H', 'T', 'H'],\n",
       "       ['T', 'H', 'T', ..., 'T', 'T', 'H'],\n",
       "       ['H', 'H', 'H', ..., 'H', 'T', 'T']], dtype='<U1')"
      ]
     },
     "execution_count": 12,
     "metadata": {},
     "output_type": "execute_result"
    }
   ],
   "source": [
    "coinflips = np.random.choice(outcomes, size=(n_simulations, n_coins))\n",
    "coinflips"
   ]
  },
  {
   "cell_type": "code",
   "execution_count": 13,
   "id": "99e0144e",
   "metadata": {},
   "outputs": [
    {
     "data": {
      "text/plain": [
       "array([5, 2, 4, ..., 6, 4, 6])"
      ]
     },
     "execution_count": 13,
     "metadata": {},
     "output_type": "execute_result"
    }
   ],
   "source": [
    "flips_by_sim = (coinflips == 'H').sum(axis=1)\n",
    "\n",
    "flips_by_sim"
   ]
  },
  {
   "cell_type": "markdown",
   "id": "423989bd",
   "metadata": {},
   "source": [
    "Landing on Heads exactly 3 times"
   ]
  },
  {
   "cell_type": "code",
   "execution_count": 15,
   "id": "af0f643c",
   "metadata": {},
   "outputs": [
    {
     "data": {
      "text/plain": [
       "0.21785"
      ]
     },
     "execution_count": 15,
     "metadata": {},
     "output_type": "execute_result"
    }
   ],
   "source": [
    "(flips_by_sim == 3).mean()"
   ]
  },
  {
   "cell_type": "code",
   "execution_count": 16,
   "id": "a52dcee2",
   "metadata": {},
   "outputs": [
    {
     "data": {
      "text/plain": [
       "0.63618"
      ]
     },
     "execution_count": 16,
     "metadata": {},
     "output_type": "execute_result"
    }
   ],
   "source": [
    "(flips_by_sim > 3).mean()"
   ]
  },
  {
   "cell_type": "code",
   "execution_count": 17,
   "id": "6e7c0b17",
   "metadata": {},
   "outputs": [
    {
     "data": {
      "text/plain": [
       "0.63566"
      ]
     },
     "execution_count": 17,
     "metadata": {},
     "output_type": "execute_result"
    }
   ],
   "source": [
    "outcomes = ['H','T']\n",
    "n_coins = 8\n",
    "\n",
    "coinflips = np.random.choice(outcomes, size=(n_simulations, n_coins))\n",
    "flips_by_sim = (coinflips == 'H').sum(axis=1)\n",
    "(flips_by_sim > 3).mean()"
   ]
  },
  {
   "cell_type": "markdown",
   "id": "90058cc1",
   "metadata": {},
   "source": [
    "3. There are approximitely 3 web development cohorts for every 1 data science cohort at Codeup. Assuming that Codeup randomly selects an alumni to put on a billboard, what are the odds that the two billboards I drive past both have data science students on them?"
   ]
  },
  {
   "cell_type": "code",
   "execution_count": 18,
   "id": "15bf3b84",
   "metadata": {},
   "outputs": [
    {
     "data": {
      "text/plain": [
       "0.0625"
      ]
     },
     "execution_count": 18,
     "metadata": {},
     "output_type": "execute_result"
    }
   ],
   "source": [
    "(.25)*(.25)"
   ]
  },
  {
   "cell_type": "code",
   "execution_count": 19,
   "id": "08d50bf4",
   "metadata": {},
   "outputs": [
    {
     "data": {
      "text/plain": [
       "array([['ds', 'wd'],\n",
       "       ['wd', 'wd'],\n",
       "       ['wd', 'wd'],\n",
       "       ...,\n",
       "       ['ds', 'wd'],\n",
       "       ['wd', 'wd'],\n",
       "       ['wd', 'ds']], dtype='<U2')"
      ]
     },
     "execution_count": 19,
     "metadata": {},
     "output_type": "execute_result"
    }
   ],
   "source": [
    "outcomes = ['wd', 'wd', 'wd', 'ds']\n",
    "\n",
    "n_billboards = 2\n",
    "\n",
    "billboards = np.random.choice(outcomes, size=(n_simulations, n_billboards))\n",
    "\n",
    "billboards"
   ]
  },
  {
   "cell_type": "code",
   "execution_count": 20,
   "id": "6fc73a15",
   "metadata": {},
   "outputs": [
    {
     "data": {
      "text/plain": [
       "array([['wd', 'ds'],\n",
       "       ['ds', 'wd'],\n",
       "       ['wd', 'ds'],\n",
       "       ...,\n",
       "       ['ds', 'wd'],\n",
       "       ['wd', 'ds'],\n",
       "       ['wd', 'wd']], dtype='<U2')"
      ]
     },
     "execution_count": 20,
     "metadata": {},
     "output_type": "execute_result"
    }
   ],
   "source": [
    "outcomes = ['wd','ds']\n",
    "\n",
    "billboards = np.random.choice(outcomes, size=(n_simulations, n_billboards), \n",
    "                p=[0.75, 0.25])\n",
    "billboards"
   ]
  },
  {
   "cell_type": "code",
   "execution_count": 22,
   "id": "a2a32ccc",
   "metadata": {},
   "outputs": [
    {
     "data": {
      "text/plain": [
       "array([1, 1, 1, ..., 1, 1, 0])"
      ]
     },
     "execution_count": 22,
     "metadata": {},
     "output_type": "execute_result"
    }
   ],
   "source": [
    "(billboards == 'ds').sum(axis=1)"
   ]
  },
  {
   "cell_type": "code",
   "execution_count": 23,
   "id": "e71c2995",
   "metadata": {},
   "outputs": [
    {
     "data": {
      "text/plain": [
       "0.0626"
      ]
     },
     "execution_count": 23,
     "metadata": {},
     "output_type": "execute_result"
    }
   ],
   "source": [
    "prob = ((billboards == 'ds').sum(axis=1) == 2).mean()\n",
    "prob"
   ]
  },
  {
   "cell_type": "code",
   "execution_count": 24,
   "id": "83779351",
   "metadata": {},
   "outputs": [
    {
     "data": {
      "text/plain": [
       "0.9374"
      ]
     },
     "execution_count": 24,
     "metadata": {},
     "output_type": "execute_result"
    }
   ],
   "source": [
    "1-prob"
   ]
  },
  {
   "cell_type": "code",
   "execution_count": 25,
   "id": "370899d1",
   "metadata": {},
   "outputs": [
    {
     "data": {
      "text/plain": [
       "0.06678045658203542"
      ]
     },
     "execution_count": 25,
     "metadata": {},
     "output_type": "execute_result"
    }
   ],
   "source": [
    "odds = prob/(1-prob)\n",
    "odds"
   ]
  },
  {
   "cell_type": "markdown",
   "id": "894b97f5",
   "metadata": {},
   "source": [
    "4. Codeup students buy, on average, 3 poptart packages (+- 1.5) a day from the snack vending machine. If on monday the machine is restocked with 17 poptart packages, how likely is it that I will be able to buy some poptarts on Friday afternoon?"
   ]
  },
  {
   "cell_type": "code",
   "execution_count": 26,
   "id": "f8ff97ee",
   "metadata": {},
   "outputs": [],
   "source": [
    "mean = 3 \n",
    "sd = 1.5\n",
    "\n",
    "n_days = 5"
   ]
  },
  {
   "cell_type": "code",
   "execution_count": 27,
   "id": "61e26c8c",
   "metadata": {},
   "outputs": [
    {
     "data": {
      "text/plain": [
       "array([[ 4.06727987,  5.42858779, -0.55643656,  3.64726638,  3.48266155],\n",
       "       [ 3.15033316,  2.44877615,  0.53991188,  2.21276001,  3.77092258],\n",
       "       [ 4.12864342,  2.06316262,  2.92173551, -0.80131253,  4.46434539],\n",
       "       ...,\n",
       "       [ 2.33166328,  1.87465851,  3.44930493,  4.65019605,  2.25299089],\n",
       "       [ 3.27307033,  3.01835385,  3.91246446,  0.3017343 ,  3.92353314],\n",
       "       [ 2.09623644,  4.40829847,  3.21341828,  3.1146626 ,  3.06040166]])"
      ]
     },
     "execution_count": 27,
     "metadata": {},
     "output_type": "execute_result"
    }
   ],
   "source": [
    "poptarts_bought_day = np.random.normal(mean, sd, size=(n_simulations, n_days))\n",
    "\n",
    "poptarts_bought_day\n"
   ]
  },
  {
   "cell_type": "code",
   "execution_count": 28,
   "id": "1a996e2e",
   "metadata": {},
   "outputs": [
    {
     "data": {
      "text/plain": [
       "array([16.06935903, 12.12270378, 12.77657442, ..., 14.55881366,\n",
       "       14.42915608, 15.89301745])"
      ]
     },
     "execution_count": 28,
     "metadata": {},
     "output_type": "execute_result"
    }
   ],
   "source": [
    "poptarts_bought_per_week = poptarts_bought_day.sum(axis=1)\n",
    "\n",
    "poptarts_bought_per_week"
   ]
  },
  {
   "cell_type": "code",
   "execution_count": 29,
   "id": "3ce471fe",
   "metadata": {},
   "outputs": [
    {
     "data": {
      "text/plain": [
       "0.61692"
      ]
     },
     "execution_count": 29,
     "metadata": {},
     "output_type": "execute_result"
    }
   ],
   "source": [
    "(poptarts_bought_per_week <= 16).mean()"
   ]
  },
  {
   "cell_type": "code",
   "execution_count": 30,
   "id": "1acf4102",
   "metadata": {},
   "outputs": [],
   "source": [
    "men_avg= 178\n",
    "men_std=8\n",
    "\n",
    "women_avg=170\n",
    "women_std=6"
   ]
  },
  {
   "cell_type": "code",
   "execution_count": 31,
   "id": "f856a840",
   "metadata": {},
   "outputs": [
    {
     "data": {
      "text/plain": [
       "array([177.04695011, 181.97837196, 172.77491682, ..., 181.97012411,\n",
       "       181.74956493, 171.98323203])"
      ]
     },
     "execution_count": 31,
     "metadata": {},
     "output_type": "execute_result"
    }
   ],
   "source": [
    "height_men = np.random.normal(men_avg, men_std, n_simulations)\n",
    "\n",
    "height_men"
   ]
  },
  {
   "cell_type": "code",
   "execution_count": 32,
   "id": "4f6536a9",
   "metadata": {},
   "outputs": [
    {
     "data": {
      "text/plain": [
       "array([177.04695011, 181.97837196, 172.77491682, ..., 181.97012411,\n",
       "       181.74956493, 171.98323203])"
      ]
     },
     "execution_count": 32,
     "metadata": {},
     "output_type": "execute_result"
    }
   ],
   "source": [
    "height_women = np.random.normal(women_avg, women_std, n_simulations)\n",
    "\n",
    "height_men"
   ]
  },
  {
   "cell_type": "code",
   "execution_count": 33,
   "id": "f89d1e41",
   "metadata": {},
   "outputs": [
    {
     "data": {
      "text/plain": [
       "0.2113"
      ]
     },
     "execution_count": 33,
     "metadata": {},
     "output_type": "execute_result"
    }
   ],
   "source": [
    "(height_women > height_men).mean()"
   ]
  },
  {
   "cell_type": "code",
   "execution_count": 34,
   "id": "9f02b644",
   "metadata": {},
   "outputs": [
    {
     "data": {
      "text/plain": [
       "array([188.34456878, 174.38861611, 177.9100437 , ..., 179.16793993,\n",
       "       176.43381907, 189.85788966])"
      ]
     },
     "execution_count": 34,
     "metadata": {},
     "output_type": "execute_result"
    }
   ],
   "source": [
    "men = np.random.normal(178, 8, size = n_simulations)\n",
    "men"
   ]
  },
  {
   "cell_type": "code",
   "execution_count": 35,
   "id": "4f300853",
   "metadata": {},
   "outputs": [
    {
     "data": {
      "text/plain": [
       "array([163.25723658, 173.5476916 , 163.84754019, ..., 168.79783119,\n",
       "       180.73498735, 170.69078238])"
      ]
     },
     "execution_count": 35,
     "metadata": {},
     "output_type": "execute_result"
    }
   ],
   "source": [
    "women = np.random.normal(170, 6, size = n_simulations)\n",
    "women"
   ]
  },
  {
   "cell_type": "code",
   "execution_count": 36,
   "id": "744f9d40",
   "metadata": {},
   "outputs": [
    {
     "data": {
      "text/plain": [
       "0.2119"
      ]
     },
     "execution_count": 36,
     "metadata": {},
     "output_type": "execute_result"
    }
   ],
   "source": [
    "(women > men).mean()"
   ]
  },
  {
   "cell_type": "markdown",
   "id": "05434a6b",
   "metadata": {},
   "source": [
    "5. Compare Heights\n",
    "Men have an average height of 178 cm and standard deviation of 8cm.\n",
    "Women have a mean of 170, sd = 6cm.\n",
    "If a man and woman are chosen at random, P(woman taller than man)?"
   ]
  },
  {
   "cell_type": "code",
   "execution_count": 37,
   "id": "4f04e181",
   "metadata": {},
   "outputs": [],
   "source": [
    "men_avg= 178\n",
    "men_std=8\n",
    "\n",
    "women_avg=170\n",
    "women_std=6"
   ]
  },
  {
   "cell_type": "code",
   "execution_count": 38,
   "id": "908ba7c9",
   "metadata": {},
   "outputs": [
    {
     "data": {
      "text/plain": [
       "array([192.48444555, 170.71111817, 176.47963871, ..., 179.7477684 ,\n",
       "       178.09227818, 190.6174004 ])"
      ]
     },
     "execution_count": 38,
     "metadata": {},
     "output_type": "execute_result"
    }
   ],
   "source": [
    "height_men = np.random.normal(men_avg, men_std, n_simulations)\n",
    "\n",
    "height_men"
   ]
  },
  {
   "cell_type": "code",
   "execution_count": 39,
   "id": "546ef074",
   "metadata": {},
   "outputs": [
    {
     "data": {
      "text/plain": [
       "array([192.48444555, 170.71111817, 176.47963871, ..., 179.7477684 ,\n",
       "       178.09227818, 190.6174004 ])"
      ]
     },
     "execution_count": 39,
     "metadata": {},
     "output_type": "execute_result"
    }
   ],
   "source": [
    "height_women = np.random.normal(women_avg, women_std, n_simulations)\n",
    "height_men"
   ]
  },
  {
   "cell_type": "code",
   "execution_count": 40,
   "id": "6a75611c",
   "metadata": {},
   "outputs": [
    {
     "data": {
      "text/plain": [
       "0.21056"
      ]
     },
     "execution_count": 40,
     "metadata": {},
     "output_type": "execute_result"
    }
   ],
   "source": [
    "(height_women > height_men).mean()"
   ]
  },
  {
   "cell_type": "markdown",
   "id": "9b79b331",
   "metadata": {},
   "source": [
    "6. When installing anaconda on a student's computer, there's a 1 in 250 chance that the download is corrupted and the installation fails.\n",
    "What are the odds that after having 50 students download anaconda, no one has an installation issue? 100 students?\n",
    "What is the probability that we observe an installation issue within the first 150 students that download anaconda?\n",
    "How likely is it that 450 students all download anaconda without an issue?"
   ]
  },
  {
   "cell_type": "code",
   "execution_count": 41,
   "id": "ae7086b2",
   "metadata": {},
   "outputs": [],
   "source": [
    "outcomes = ['S', 'F']\n",
    "\n",
    "n_students = 50"
   ]
  },
  {
   "cell_type": "code",
   "execution_count": 42,
   "id": "5ba14bcb",
   "metadata": {},
   "outputs": [],
   "source": [
    "outcomes = ['S', 'F']\n",
    "\n",
    "n_students = 50"
   ]
  },
  {
   "cell_type": "code",
   "execution_count": 43,
   "id": "a5b586d1",
   "metadata": {},
   "outputs": [
    {
     "data": {
      "text/plain": [
       "array([['S', 'S', 'S', ..., 'S', 'S', 'S'],\n",
       "       ['S', 'S', 'S', ..., 'S', 'S', 'S'],\n",
       "       ['S', 'S', 'S', ..., 'S', 'S', 'S'],\n",
       "       ...,\n",
       "       ['S', 'S', 'S', ..., 'S', 'S', 'S'],\n",
       "       ['S', 'S', 'S', ..., 'S', 'S', 'S'],\n",
       "       ['S', 'S', 'S', ..., 'S', 'S', 'S']], dtype='<U1')"
      ]
     },
     "execution_count": 43,
     "metadata": {},
     "output_type": "execute_result"
    }
   ],
   "source": [
    "downloads = np.random.choice(outcomes, size=(n_simulations, n_students), \n",
    "                p = [249/250, 1/250])\n",
    "downloads"
   ]
  },
  {
   "cell_type": "code",
   "execution_count": 44,
   "id": "8d0aa1e0",
   "metadata": {},
   "outputs": [
    {
     "data": {
      "text/plain": [
       "array([50, 50, 50, ..., 50, 49, 50])"
      ]
     },
     "execution_count": 44,
     "metadata": {},
     "output_type": "execute_result"
    }
   ],
   "source": [
    "(downloads == 'S').sum(axis=1)"
   ]
  },
  {
   "cell_type": "code",
   "execution_count": 45,
   "id": "0c6caf2d",
   "metadata": {},
   "outputs": [
    {
     "data": {
      "text/plain": [
       "0.81717"
      ]
     },
     "execution_count": 45,
     "metadata": {},
     "output_type": "execute_result"
    }
   ],
   "source": [
    "((downloads == 'S').sum(axis=1) == 50).mean()"
   ]
  },
  {
   "cell_type": "code",
   "execution_count": 46,
   "id": "cbacab14",
   "metadata": {},
   "outputs": [
    {
     "data": {
      "text/plain": [
       "0.33179"
      ]
     },
     "execution_count": 46,
     "metadata": {},
     "output_type": "execute_result"
    }
   ],
   "source": [
    "outcomes = ['S', 'F']\n",
    "n_students = 100\n",
    "\n",
    "downloads = np.random.choice(outcomes, size=(n_simulations, n_students), \n",
    "                p = [249/250, 1/250])\n",
    "\n",
    "((downloads == 'S').sum(axis=1) < n_students).mean()"
   ]
  },
  {
   "cell_type": "code",
   "execution_count": 47,
   "id": "9e40ce4a",
   "metadata": {},
   "outputs": [
    {
     "data": {
      "text/plain": [
       "0.44941"
      ]
     },
     "execution_count": 47,
     "metadata": {},
     "output_type": "execute_result"
    }
   ],
   "source": [
    "outcomes = ['S', 'F']\n",
    "n_students = 150\n",
    "\n",
    "downloads = np.random.choice(outcomes, size=(n_simulations, n_students), \n",
    "                p = [249/250, 1/250])\n",
    "\n",
    "((downloads == 'S').sum(axis=1) < n_students).mean()"
   ]
  },
  {
   "cell_type": "code",
   "execution_count": 48,
   "id": "2debf576",
   "metadata": {},
   "outputs": [
    {
     "data": {
      "text/plain": [
       "0.16702"
      ]
     },
     "execution_count": 48,
     "metadata": {},
     "output_type": "execute_result"
    }
   ],
   "source": [
    "outcomes = ['S', 'F']\n",
    "n_students = 450\n",
    "\n",
    "downloads = np.random.choice(outcomes, size=(n_simulations, n_students), \n",
    "                p = [249/250, 1/250])\n",
    "\n",
    "((downloads == 'S').sum(axis=1) == n_students).mean()"
   ]
  },
  {
   "cell_type": "markdown",
   "id": "827c3f80",
   "metadata": {},
   "source": [
    "7. There's a 70% chance on any given day that there will be at least one food truck at Travis Park. However, you haven't seen a food truck there in 3 days. How unlikely is this?"
   ]
  },
  {
   "cell_type": "code",
   "execution_count": 49,
   "id": "026b0f02",
   "metadata": {},
   "outputs": [],
   "source": [
    "n_days = 3"
   ]
  },
  {
   "cell_type": "code",
   "execution_count": 50,
   "id": "f03aaf1c",
   "metadata": {},
   "outputs": [
    {
     "data": {
      "text/plain": [
       "array([[0, 1, 0],\n",
       "       [1, 1, 1],\n",
       "       [1, 1, 1],\n",
       "       ...,\n",
       "       [1, 1, 1],\n",
       "       [1, 1, 1],\n",
       "       [0, 1, 0]])"
      ]
     },
     "execution_count": 50,
     "metadata": {},
     "output_type": "execute_result"
    }
   ],
   "source": [
    "trucks = np.random.choice([0, 1], size = (n_simulations, n_days), p = [0.3, 0.7])\n",
    "\n",
    "trucks"
   ]
  },
  {
   "cell_type": "markdown",
   "id": "8f082907",
   "metadata": {},
   "source": [
    "probability that no truck shows up in 3 days"
   ]
  },
  {
   "cell_type": "code",
   "execution_count": 51,
   "id": "99472909",
   "metadata": {},
   "outputs": [
    {
     "data": {
      "text/plain": [
       "0.02733"
      ]
     },
     "execution_count": 51,
     "metadata": {},
     "output_type": "execute_result"
    }
   ],
   "source": [
    "(trucks.sum(axis = 1) == 0).mean()"
   ]
  },
  {
   "cell_type": "markdown",
   "id": "05a0bb74",
   "metadata": {},
   "source": [
    "How likely is it that a food truck will show up sometime this week\n"
   ]
  },
  {
   "cell_type": "code",
   "execution_count": 52,
   "id": "19e34140",
   "metadata": {},
   "outputs": [
    {
     "data": {
      "text/plain": [
       "0.97267"
      ]
     },
     "execution_count": 52,
     "metadata": {},
     "output_type": "execute_result"
    }
   ],
   "source": [
    "(trucks.sum(axis = 1) >= 1).mean()"
   ]
  }
 ],
 "metadata": {
  "kernelspec": {
   "display_name": "Python 3 (ipykernel)",
   "language": "python",
   "name": "python3"
  },
  "language_info": {
   "codemirror_mode": {
    "name": "ipython",
    "version": 3
   },
   "file_extension": ".py",
   "mimetype": "text/x-python",
   "name": "python",
   "nbconvert_exporter": "python",
   "pygments_lexer": "ipython3",
   "version": "3.9.13"
  }
 },
 "nbformat": 4,
 "nbformat_minor": 5
}
